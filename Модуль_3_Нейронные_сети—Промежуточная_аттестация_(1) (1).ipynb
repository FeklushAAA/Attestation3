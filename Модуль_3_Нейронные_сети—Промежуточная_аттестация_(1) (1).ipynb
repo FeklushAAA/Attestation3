{
  "cells": [
    {
      "cell_type": "markdown",
      "metadata": {
        "id": "hNnzwkohrQDE"
      },
      "source": [
        "# Промежуточная аттестация по сетям искусcтвенных нейронов.\n",
        "## Задание\n",
        "\n",
        "**Ваша задача - создать классификатор изображений с помощью Keras и сверточных нейронных сетей для набора данных Fashion MNIST. Этот набор данных включает 10 меток с разными типами одежды с изображениями 28 на 28 * в оттенках серого *. Имеется обучающий набор из 60 000 изображений и 10 000 тестовых изображений.**\n",
        "\n",
        "Описание классов\n",
        "\n",
        "    Label\tDescription\n",
        "    0\t    T-shirt/top\n",
        "    1\t    Trouser\n",
        "    2\t    Pullover\n",
        "    3\t    Dress\n",
        "    4\t    Coat\n",
        "    5\t    Sandal\n",
        "    6\t    Shirt\n",
        "    7\t    Sneaker\n",
        "    8\t    Bag\n",
        "    9\t    Ankle boot\n",
        "    \n"
      ]
    },
    {
      "cell_type": "markdown",
      "metadata": {
        "id": "2jHBw5EDrQDJ"
      },
      "source": [
        "## Данные\n",
        "\n",
        "**Загружаем данные**"
      ]
    },
    {
      "cell_type": "code",
      "execution_count": null,
      "metadata": {
        "colab": {
          "base_uri": "https://localhost:8080/"
        },
        "id": "QFo6adY0rQDK",
        "outputId": "19fce88c-ba52-479b-b317-3a04c64a958f"
      },
      "outputs": [
        {
          "output_type": "stream",
          "name": "stdout",
          "text": [
            "Downloading data from https://storage.googleapis.com/tensorflow/tf-keras-datasets/train-labels-idx1-ubyte.gz\n",
            "29515/29515 [==============================] - 0s 0us/step\n",
            "Downloading data from https://storage.googleapis.com/tensorflow/tf-keras-datasets/train-images-idx3-ubyte.gz\n",
            "26421880/26421880 [==============================] - 0s 0us/step\n",
            "Downloading data from https://storage.googleapis.com/tensorflow/tf-keras-datasets/t10k-labels-idx1-ubyte.gz\n",
            "5148/5148 [==============================] - 0s 0us/step\n",
            "Downloading data from https://storage.googleapis.com/tensorflow/tf-keras-datasets/t10k-images-idx3-ubyte.gz\n",
            "4422102/4422102 [==============================] - 0s 0us/step\n",
            "Train: X =  (60000, 28, 28)\n",
            "Test: X =  (10000, 28, 28)\n"
          ]
        }
      ],
      "source": [
        "import tensorflow as tf\n",
        "import numpy as np\n",
        "import pandas as pd\n",
        "from keras.datasets import fashion_mnist\n",
        "from tensorflow.keras.models import Sequential\n",
        "from tensorflow.keras.layers import Conv2D, MaxPooling2D, Dense, Flatten\n",
        "from tensorflow.keras.optimizers import Adam\n",
        "import matplotlib.pyplot as plt\n",
        "\n",
        "(x_train, y_train), (x_test, y_test) = fashion_mnist.load_data()\n",
        "\n",
        "print('Train: X = ', x_train.shape)\n",
        "print('Test: X = ', x_test.shape)"
      ]
    },
    {
      "cell_type": "markdown",
      "metadata": {
        "id": "kpr_r5gmrQDO"
      },
      "source": [
        "## Визаулизация датасета\n",
        "\n",
        "**Используйте matplotlib чтобы показать пример картинки.**"
      ]
    },
    {
      "cell_type": "code",
      "execution_count": null,
      "metadata": {
        "colab": {
          "base_uri": "https://localhost:8080/",
          "height": 447
        },
        "id": "kjCvWf20rQDP",
        "outputId": "8d3b6f6a-1a7a-4727-e40e-f3219e463d55"
      },
      "outputs": [
        {
          "output_type": "execute_result",
          "data": {
            "text/plain": [
              "<matplotlib.image.AxesImage at 0x7aff8b6bb520>"
            ]
          },
          "metadata": {},
          "execution_count": 2
        },
        {
          "output_type": "display_data",
          "data": {
            "text/plain": [
              "<Figure size 640x480 with 1 Axes>"
            ],
            "image/png": "[encoded data removed]"
          },
          "metadata": {}
        }
      ],
      "source": [
        "plt.imshow(x_train[0])"
      ]
    },
    {
      "cell_type": "markdown",
      "metadata": {
        "id": "y3qaR0z4rQDQ"
      },
      "source": [
        "## Предобработка\n",
        "\n",
        "**Нормализуйте данные X_train и X_test **"
      ]
    },
    {
      "cell_type": "code",
      "execution_count": null,
      "metadata": {
        "colab": {
          "base_uri": "https://localhost:8080/"
        },
        "id": "dVJ9Jr20rQDQ",
        "outputId": "8543a656-883c-45b5-a938-6d2c764411c8"
      },
      "outputs": [
        {
          "output_type": "stream",
          "name": "stdout",
          "text": [
            "(60000, 28, 28, 1)\n"
          ]
        }
      ],
      "source": [
        "x_train = np.expand_dims(x_train, -1)\n",
        "x_test = np.expand_dims(x_test, -1)\n",
        "\n",
        "print(x_train.shape)\n"
      ]
    },
    {
      "cell_type": "code",
      "execution_count": null,
      "metadata": {
        "id": "PxdNbFwqrQDR"
      },
      "outputs": [],
      "source": []
    },
    {
      "cell_type": "code",
      "execution_count": null,
      "metadata": {
        "id": "wAttT8HXrQDR"
      },
      "outputs": [],
      "source": []
    },
    {
      "cell_type": "markdown",
      "metadata": {
        "id": "VXuan705rQDR"
      },
      "source": [
        "**Измените форму массивов X_train и X_test так, чтобы они стали 4-мерными**\n",
        "batch_size x channels x H x W"
      ]
    },
    {
      "cell_type": "code",
      "execution_count": null,
      "metadata": {
        "id": "VuOx__ZXrQDS"
      },
      "outputs": [],
      "source": []
    },
    {
      "cell_type": "code",
      "execution_count": null,
      "metadata": {
        "id": "0B-F-lG7rQDS"
      },
      "outputs": [],
      "source": []
    },
    {
      "cell_type": "code",
      "execution_count": null,
      "metadata": {
        "id": "dzlQ_BiorQDS"
      },
      "outputs": [],
      "source": []
    },
    {
      "cell_type": "markdown",
      "metadata": {
        "id": "kpA_pJbIrQDS"
      },
      "source": [
        "**Преобразуйте  y_train и y_test в one_hot представления **"
      ]
    },
    {
      "cell_type": "code",
      "execution_count": null,
      "metadata": {
        "id": "T6lotBfCrQDT"
      },
      "outputs": [],
      "source": []
    },
    {
      "cell_type": "code",
      "execution_count": null,
      "metadata": {
        "id": "XeCwAM2orQDT"
      },
      "outputs": [],
      "source": []
    },
    {
      "cell_type": "code",
      "execution_count": null,
      "metadata": {
        "id": "kO3ZhwXvrQDT"
      },
      "outputs": [],
      "source": []
    },
    {
      "cell_type": "code",
      "execution_count": null,
      "metadata": {
        "id": "bMeti2khrQDT"
      },
      "outputs": [],
      "source": []
    },
    {
      "cell_type": "markdown",
      "metadata": {
        "id": "xv_WvSjxrQDT"
      },
      "source": [
        "## Создайте модель\n",
        "\n",
        "**Примерная структура модели. При выполнении задания вы можете поэкспериментировать со слоями**\n",
        "\n",
        "* Сверточный слой, 32 фильтра, размер ядра=(4,4)\n",
        "* Пулинг с pool_size = (2,2)\n",
        "\n",
        "* Выпрямляющий слой (Flatten)\n",
        "* Полносвязный слой (например 128 нейронов), RELU\n",
        "\n",
        "* Выходной полносвязный слой с 10 нейронами с softmax\n",
        "\n",
        "**При компиляции укажите loss='categorical_crossentropy', optimizer='rmsprop', metrics=['accuracy']**"
      ]
    },
    {
      "cell_type": "code",
      "execution_count": null,
      "metadata": {
        "id": "ouvuPlXLrQDU"
      },
      "outputs": [],
      "source": [
        "def model_arch():\n",
        "\tmodels = Sequential()\n",
        "\n",
        "\tmodels.add(Conv2D(32, (4, 4),\n",
        "\t\t\t\t\tpadding=\"same\",\n",
        "\t\t\t\t\tactivation=\"relu\",\n",
        "\t\t\t\t\tinput_shape=(28, 28, 1)))\n",
        "\n",
        "\tmodels.add(MaxPooling2D(pool_size=(2, 2)))\n",
        "\tmodels.add(Conv2D(128, (5, 5), padding=\"same\",\n",
        "\t\t\t\t\tactivation=\"relu\"))\n",
        "\n",
        "\tmodels.add(MaxPooling2D(pool_size=(2, 2)))\n",
        "\tmodels.add(Conv2D(256, (5, 5), padding=\"same\",\n",
        "\t\t\t\t\tactivation=\"relu\"))\n",
        "\n",
        "\tmodels.add(MaxPooling2D(pool_size=(2, 2)))\n",
        "\n",
        "\t# are added\n",
        "\tmodels.add(Flatten())\n",
        "\tmodels.add(Dense(256, activation=\"relu\"))\n",
        "\n",
        "\n",
        "\t# function\n",
        "\tmodels.add(Dense(10, activation=\"softmax\"))\n",
        "\treturn models\n"
      ]
    },
    {
      "cell_type": "code",
      "execution_count": null,
      "metadata": {
        "colab": {
          "base_uri": "https://localhost:8080/"
        },
        "id": "DYIYfwwVrQDU",
        "outputId": "bcf9e78c-c2c3-4ed5-8e7e-37c01e74d796"
      },
      "outputs": [
        {
          "output_type": "stream",
          "name": "stdout",
          "text": [
            "Model: \"sequential\"\n",
            "_________________________________________________________________\n",
            " Layer (type)                Output Shape              Param #   \n",
            "=================================================================\n",
            " conv2d (Conv2D)             (None, 28, 28, 32)        544       \n",
            "                                                                 \n",
            " max_pooling2d (MaxPooling2  (None, 14, 14, 32)        0         \n",
            " D)                                                              \n",
            "                                                                 \n",
            " conv2d_1 (Conv2D)           (None, 14, 14, 128)       102528    \n",
            "                                                                 \n",
            " max_pooling2d_1 (MaxPoolin  (None, 7, 7, 128)         0         \n",
            " g2D)                                                            \n",
            "                                                                 \n",
            " conv2d_2 (Conv2D)           (None, 7, 7, 256)         819456    \n",
            "                                                                 \n",
            " max_pooling2d_2 (MaxPoolin  (None, 3, 3, 256)         0         \n",
            " g2D)                                                            \n",
            "                                                                 \n",
            " flatten (Flatten)           (None, 2304)              0         \n",
            "                                                                 \n",
            " dense (Dense)               (None, 256)               590080    \n",
            "                                                                 \n",
            " dense_1 (Dense)             (None, 10)                2570      \n",
            "                                                                 \n",
            "=================================================================\n",
            "Total params: 1515178 (5.78 MB)\n",
            "Trainable params: 1515178 (5.78 MB)\n",
            "Non-trainable params: 0 (0.00 Byte)\n",
            "_________________________________________________________________\n"
          ]
        }
      ],
      "source": [
        "model = model_arch()\n",
        "\n",
        "model.compile(optimizer=Adam(learning_rate=1e-3),\n",
        "\t\t\tloss='sparse_categorical_crossentropy',\n",
        "\t\t\tmetrics=['accuracy'])\n",
        "\n",
        "model.summary()\n"
      ]
    },
    {
      "cell_type": "markdown",
      "source": [
        "Тренировка модели\n"
      ],
      "metadata": {
        "id": "ghihJdlt04QM"
      }
    },
    {
      "cell_type": "code",
      "execution_count": null,
      "metadata": {
        "colab": {
          "base_uri": "https://localhost:8080/"
        },
        "id": "ACxptNO3rQDU",
        "outputId": "06789ebb-12fe-4c02-cde5-70c12f7d5461"
      },
      "outputs": [
        {
          "output_type": "stream",
          "name": "stdout",
          "text": [
            "Epoch 1/2\n",
            "20/20 [==============================] - 395s 20s/step - loss: 1.0600 - accuracy: 0.6389 - val_loss: 0.6508 - val_accuracy: 0.7629\n",
            "Epoch 2/2\n",
            "20/20 [==============================] - 350s 18s/step - loss: 0.5429 - accuracy: 0.8029 - val_loss: 0.4936 - val_accuracy: 0.8188\n"
          ]
        }
      ],
      "source": [
        "history = model.fit(\n",
        "\tx_train.astype(np.float32), y_train.astype(np.float32),\n",
        "\tepochs=2,\n",
        "\tsteps_per_epoch=20,\n",
        "\tvalidation_split=0.33\n",
        ")\n"
      ]
    },
    {
      "cell_type": "markdown",
      "metadata": {
        "id": "N9e3A_mirQDV"
      },
      "source": [
        "### Оценка модели\n",
        "\n",
        "**Оцените модель по метрикам accuracy,precision,recall,f1-score на тестовой выборке x_test **"
      ]
    },
    {
      "cell_type": "code",
      "execution_count": null,
      "metadata": {
        "colab": {
          "base_uri": "https://localhost:8080/",
          "height": 472
        },
        "id": "AoNMsSdBrQDW",
        "outputId": "7cb3d47a-860a-403d-cb49-1556e15a6750"
      },
      "outputs": [
        {
          "output_type": "display_data",
          "data": {
            "text/plain": [
              "<Figure size 640x480 with 1 Axes>"
            ],
            "image/png": "[encoded data removed]"
          },
          "metadata": {}
        }
      ],
      "source": [
        "# Loss vs Epoch plot\n",
        "plt.plot(history.history['loss'])\n",
        "plt.plot(history.history['val_loss'])\n",
        "plt.title('Model Accuracy')\n",
        "plt.ylabel('loss')\n",
        "plt.xlabel('epoch')\n",
        "plt.legend(['train', 'val'], loc='upper left')\n",
        "plt.show()\n"
      ]
    },
    {
      "cell_type": "code",
      "execution_count": null,
      "metadata": {
        "id": "0MtLN9nZrQDW",
        "colab": {
          "base_uri": "https://localhost:8080/",
          "height": 472
        },
        "outputId": "ec170056-ef55-4b7d-fadc-04a2f603257c"
      },
      "outputs": [
        {
          "output_type": "display_data",
          "data": {
            "text/plain": [
              "<Figure size 640x480 with 1 Axes>"
            ],
            "image/png": "[encoded data removed]"
          },
          "metadata": {}
        }
      ],
      "source": [
        "# Accuracy vs Epoch plot\n",
        "plt.plot(history.history['accuracy'])\n",
        "plt.plot(history.history['val_accuracy'])\n",
        "plt.title('Model Accuracy')\n",
        "plt.ylabel('Accuracy')\n",
        "plt.xlabel('epoch')\n",
        "plt.legend(['train', 'val'], loc='upper left')\n",
        "plt.show()\n"
      ]
    },
    {
      "cell_type": "code",
      "execution_count": null,
      "metadata": {
        "id": "aFWTRmn3rQDW",
        "colab": {
          "base_uri": "https://localhost:8080/",
          "height": 465
        },
        "outputId": "a64657ba-0067-48c7-feba-7a5d8656094d"
      },
      "outputs": [
        {
          "output_type": "stream",
          "name": "stdout",
          "text": [
            "1/1 [==============================] - 0s 31ms/step\n",
            "ankle_boots\n"
          ]
        },
        {
          "output_type": "display_data",
          "data": {
            "text/plain": [
              "<Figure size 640x480 with 1 Axes>"
            ],
            "image/png": "[encoded data removed]"
          },
          "metadata": {}
        }
      ],
      "source": [
        "# There are 10 output labels for the Fashion MNIST dataset\n",
        "labels = ['t_shirt', 'trouser', 'pullover', 'dress', 'coat',\n",
        "\t\t'sandal', 'shirt', 'sneaker', 'bag', 'ankle_boots']\n",
        "# Make a prediction\n",
        "predictions = model.predict(x_test[:1])\n",
        "label = labels[np.argmax(predictions)]\n",
        "\n",
        "print(label)\n",
        "plt.imshow(x_test[:1][0])\n",
        "plt.show()\n"
      ]
    },
    {
      "cell_type": "code",
      "execution_count": null,
      "metadata": {
        "id": "6GJPt7XkrQDW"
      },
      "outputs": [],
      "source": []
    },
    {
      "cell_type": "code",
      "execution_count": null,
      "metadata": {
        "id": "_x-Lh2e8rQDW"
      },
      "outputs": [],
      "source": []
    },
    {
      "cell_type": "code",
      "execution_count": null,
      "metadata": {
        "id": "vVW0MALRrQDW"
      },
      "outputs": [],
      "source": []
    },
    {
      "cell_type": "code",
      "execution_count": null,
      "metadata": {
        "id": "TfTHv3_YrQDW"
      },
      "outputs": [],
      "source": []
    },
    {
      "cell_type": "code",
      "execution_count": null,
      "metadata": {
        "id": "fgGLY-turQDX"
      },
      "outputs": [],
      "source": []
    },
    {
      "cell_type": "markdown",
      "metadata": {
        "id": "hG6G6-uurQDX"
      },
      "source": [
        "## Дополнительно\n",
        "\n",
        "* Отрисуйте фильтры на слое Conv2D, сравните до и после обучения модели"
      ]
    },
    {
      "cell_type": "code",
      "execution_count": null,
      "metadata": {
        "id": "kt5DUwoYrQDX"
      },
      "outputs": [],
      "source": []
    }
  ],
  "metadata": {
    "kernelspec": {
      "display_name": "Python 3",
      "language": "python",
      "name": "python3"
    },
    "language_info": {
      "codemirror_mode": {
        "name": "ipython",
        "version": 3
      },
      "file_extension": ".py",
      "mimetype": "text/x-python",
      "name": "python",
      "nbconvert_exporter": "python",
      "pygments_lexer": "ipython3",
      "version": "3.10.5"
    },
    "colab": {
      "provenance": []
    }
  },
  "nbformat": 4,
  "nbformat_minor": 0
}